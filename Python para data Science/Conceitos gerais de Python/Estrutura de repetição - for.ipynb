{
 "cells": [
  {
   "cell_type": "markdown",
   "id": "228b6596",
   "metadata": {},
   "source": [
    "# Estrutura de repetição "
   ]
  },
  {
   "cell_type": "markdown",
   "id": "b774e30a",
   "metadata": {},
   "source": [
    "Loop For"
   ]
  },
  {
   "cell_type": "code",
   "execution_count": null,
   "id": "e24d4536",
   "metadata": {},
   "outputs": [],
   "source": [
    "#Estruturas de repetição\n",
    "#Nos permite executar um comando ou uma série de comandos um determinado numero de vezes. \n",
    "#Podemos utilizar o loop for em objetos sequenciais como: \n",
    "#Strings, listas, tuplas, elementos de dicionarios, arquivos"
   ]
  },
  {
   "cell_type": "code",
   "execution_count": null,
   "id": "8761014b",
   "metadata": {},
   "outputs": [],
   "source": [
    "#Em que situação nós utilizamos uma estrutura de repetição? Sempre que quisermos utilizar um comando ou um \n",
    "#conjunto de comandos um número determinado de vezes. "
   ]
  },
  {
   "cell_type": "code",
   "execution_count": 1,
   "id": "b97a40b3",
   "metadata": {},
   "outputs": [
    {
     "name": "stdout",
     "output_type": "stream",
     "text": [
      "2\n",
      "3\n",
      "4\n"
     ]
    }
   ],
   "source": [
    "#Criando uma tupla e imprimindo cada um dos valores: \n",
    "tp = (2,3,4)\n",
    "for i in tp: \n",
    "    print(i)"
   ]
  },
  {
   "cell_type": "code",
   "execution_count": 2,
   "id": "2358016a",
   "metadata": {},
   "outputs": [
    {
     "name": "stdout",
     "output_type": "stream",
     "text": [
      "Leite\n",
      "Ovos\n",
      "Açucar\n",
      "Frutas\n"
     ]
    }
   ],
   "source": [
    "#Criando uma lista e imprimindo cada um dos valores: \n",
    "lista_mercado = [\"Leite\", \"Ovos\", \"Açucar\",\"Frutas\"]\n",
    "for lista in lista_mercado:\n",
    "    print(lista)"
   ]
  },
  {
   "cell_type": "code",
   "execution_count": 4,
   "id": "7c16c65b",
   "metadata": {},
   "outputs": [
    {
     "name": "stdout",
     "output_type": "stream",
     "text": [
      "0\n",
      "1\n",
      "2\n",
      "3\n",
      "4\n"
     ]
    }
   ],
   "source": [
    "# Imprimindo os valores no intervalo entre 0 e 5\n",
    "for contador in range(0,5):\n",
    "    print(contador)"
   ]
  },
  {
   "cell_type": "code",
   "execution_count": 5,
   "id": "d8f39157",
   "metadata": {},
   "outputs": [
    {
     "name": "stdout",
     "output_type": "stream",
     "text": [
      "2\n",
      "4\n",
      "6\n",
      "8\n",
      "10\n"
     ]
    }
   ],
   "source": [
    "#Imprimindo na tela os números pares da lista de números:\n",
    "lista=[1,2,3,4,5,6,7,8,9,10]\n",
    "for num in lista: \n",
    "    if num % 2 == 0:\n",
    "        print(num)"
   ]
  },
  {
   "cell_type": "code",
   "execution_count": 6,
   "id": "8b6b62f8",
   "metadata": {},
   "outputs": [
    {
     "name": "stdout",
     "output_type": "stream",
     "text": [
      "P\n",
      "y\n",
      "t\n",
      "h\n",
      "o\n",
      "n\n",
      " \n",
      "é\n",
      " \n",
      "u\n",
      "m\n",
      "a\n",
      " \n",
      "l\n",
      "i\n",
      "n\n",
      "g\n",
      "u\n",
      "a\n",
      "g\n",
      "e\n",
      "m\n",
      " \n",
      "d\n",
      "e\n",
      " \n",
      "p\n",
      "r\n",
      "o\n",
      "g\n",
      "r\n",
      "a\n",
      "m\n",
      "a\n",
      "ç\n",
      "ã\n",
      "o\n"
     ]
    }
   ],
   "source": [
    "# Strings também são sequênciais:\n",
    "for caracter in \"Python é uma linguagem de programação\":\n",
    "    print(caracter)"
   ]
  },
  {
   "cell_type": "markdown",
   "id": "0539161e",
   "metadata": {},
   "source": [
    "Loops Aninhandos \n",
    "\"Ou seja, um loop for dentro de outro loop for\""
   ]
  },
  {
   "cell_type": "code",
   "execution_count": 10,
   "id": "e95127c8",
   "metadata": {},
   "outputs": [
    {
     "name": "stdout",
     "output_type": "stream",
     "text": [
      "0\n",
      "1\n",
      "2\n",
      "3\n",
      "4\n",
      "0\n",
      "1\n",
      "2\n",
      "3\n",
      "4\n",
      "0\n",
      "1\n",
      "2\n",
      "3\n",
      "4\n"
     ]
    }
   ],
   "source": [
    "#loops aninhados            \n",
    "# Aqui dizemos que para cada item do meu conjunto de ação i eu vou executar a. \n",
    "for i in range(0,3):\n",
    "    for a in range(0,5):\n",
    "        print(a)"
   ]
  },
  {
   "cell_type": "code",
   "execution_count": 11,
   "id": "39ec856d",
   "metadata": {},
   "outputs": [
    {
     "name": "stdout",
     "output_type": "stream",
     "text": [
      "462\n"
     ]
    }
   ],
   "source": [
    "#Operando os valores de uma lista com loop for\n",
    "#Para cada item da lista nós vamos multiplicar por dois e adicionar a uma variavel double_i, Depois pegamos\n",
    "#Double_i a variavel soma. \n",
    "\n",
    "listaB=[32,53,85,10,15,17,19]\n",
    "soma=0\n",
    "for i in listaB: \n",
    "    double_i=i*2\n",
    "    soma+= double_i\n",
    "print(soma)"
   ]
  },
  {
   "cell_type": "code",
   "execution_count": 13,
   "id": "e15f93c2",
   "metadata": {},
   "outputs": [
    {
     "name": "stdout",
     "output_type": "stream",
     "text": [
      "[1, 2, 3]\n",
      "[10, 15, 14]\n",
      "[10.1, 8.7, 2.3]\n"
     ]
    }
   ],
   "source": [
    "#Loop de listas em listas\n",
    "listas=[[1,2,3],[10,15,14],[10.1,8.7,2.3]]\n",
    "for i in listas:\n",
    "    print(i)"
   ]
  },
  {
   "cell_type": "code",
   "execution_count": 14,
   "id": "726b34ba",
   "metadata": {},
   "outputs": [
    {
     "name": "stdout",
     "output_type": "stream",
     "text": [
      "6\n"
     ]
    }
   ],
   "source": [
    "#Contando os itens de uma lista, para cada item da minha lista eu vou contar e vou gravar na variavel count\n",
    "lst=[0,5,6,10,13,17]\n",
    "count=0\n",
    "for item in lst:\n",
    "    count+=1\n",
    "print(count)"
   ]
  },
  {
   "cell_type": "code",
   "execution_count": 23,
   "id": "cd076ae3",
   "metadata": {},
   "outputs": [
    {
     "name": "stdout",
     "output_type": "stream",
     "text": [
      "4\n"
     ]
    }
   ],
   "source": [
    "#Contando as colunas em várias lista\n",
    "listas=[[1,2,3],[3,4,5,9],[5,6,7]]\n",
    "primeira_linha=listas[1]\n",
    "count=0\n",
    "for column in primeira_linha:\n",
    "    count=count+1\n",
    "print(count)"
   ]
  },
  {
   "cell_type": "code",
   "execution_count": 26,
   "id": "faf64dcd",
   "metadata": {},
   "outputs": [
    {
     "name": "stdout",
     "output_type": "stream",
     "text": [
      "Número encontrado!\n",
      "Número não encontrado!\n",
      "Número não encontrado!\n",
      "Número não encontrado!\n",
      "Número não encontrado!\n"
     ]
    }
   ],
   "source": [
    "#Pesquisando em listas\n",
    "#Vai percorrer toda lista e sempre que for 5 aparece a mensagem: \"Número encontrado\"\n",
    "#Quando o número verificado não for o valor solicitado, aparecerá: \"Número não encotrado\"\n",
    "listaC=[5,6,7,8,9]\n",
    "for item in listaC:\n",
    "        if item == 5:\n",
    "            print(\"Número encontrado!\")\n",
    "        else: \n",
    "            print( \"Número não encontrado!\")"
   ]
  },
  {
   "cell_type": "code",
   "execution_count": null,
   "id": "a787406d",
   "metadata": {},
   "outputs": [],
   "source": [
    "#Listando as chaves:\n",
    "dict={'k1':'python','k2':''}"
   ]
  }
 ],
 "metadata": {
  "kernelspec": {
   "display_name": "Python 3 (ipykernel)",
   "language": "python",
   "name": "python3"
  },
  "language_info": {
   "codemirror_mode": {
    "name": "ipython",
    "version": 3
   },
   "file_extension": ".py",
   "mimetype": "text/x-python",
   "name": "python",
   "nbconvert_exporter": "python",
   "pygments_lexer": "ipython3",
   "version": "3.8.10"
  }
 },
 "nbformat": 4,
 "nbformat_minor": 5
}
