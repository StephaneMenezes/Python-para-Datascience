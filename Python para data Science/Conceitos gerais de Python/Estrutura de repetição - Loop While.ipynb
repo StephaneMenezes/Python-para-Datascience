{
 "cells": [
  {
   "cell_type": "code",
   "execution_count": null,
   "id": "d97d2da1",
   "metadata": {},
   "outputs": [],
   "source": [
    "#Valida cada item em uma série de valores:"
   ]
  },
  {
   "cell_type": "code",
   "execution_count": 2,
   "id": "2df4601b",
   "metadata": {},
   "outputs": [],
   "source": [
    "## while(expressão1):\n",
    "    ##print(\"Comando executado caso a expressão1 seja verdadeira\")"
   ]
  },
  {
   "cell_type": "code",
   "execution_count": 3,
   "id": "f4f2c153",
   "metadata": {},
   "outputs": [
    {
     "name": "stdout",
     "output_type": "stream",
     "text": [
      "0\n",
      "1\n",
      "2\n",
      "3\n",
      "4\n",
      "5\n",
      "6\n",
      "7\n",
      "8\n",
      "9\n"
     ]
    }
   ],
   "source": [
    "#Aqui temos o Loop While e dizemos que: Enquanto o counter for menor que 10 somamos + 1 e imprimos a váriavel\n",
    "counter=0\n",
    "while counter<10:\n",
    "    print(counter)\n",
    "    counter=counter+1"
   ]
  },
  {
   "cell_type": "code",
   "execution_count": 6,
   "id": "7af85ac1",
   "metadata": {},
   "outputs": [
    {
     "name": "stdout",
     "output_type": "stream",
     "text": [
      "O valor de x nesta interação é:  0\n",
      "O valor de x nesta interação é:  1\n",
      "O valor de x nesta interação é:  2\n",
      "O valor de x nesta interação é:  3\n",
      "O valor de x nesta interação é:  4\n",
      "O valor de x nesta interação é:  5\n",
      "O valor de x nesta interação é:  6\n",
      "O valor de x nesta interação é:  7\n",
      "O valor de x nesta interação é:  8\n",
      "O valor de x nesta interação é:  9\n",
      "Loop concluído!\n"
     ]
    }
   ],
   "source": [
    "#Também é possível utilizar uma claúsula else para encerrar um loop while\n",
    "\n",
    "x=0\n",
    "\n",
    "while x < 10:\n",
    "    print(\"O valor de x nesta interação é: \",x)\n",
    "    x += 1 \n",
    "else: \n",
    "    print(\"Loop concluído!\")"
   ]
  },
  {
   "cell_type": "markdown",
   "id": "98ee9701",
   "metadata": {},
   "source": [
    "Pass, Break e Continue"
   ]
  },
  {
   "cell_type": "code",
   "execution_count": 7,
   "id": "f9ef7efc",
   "metadata": {},
   "outputs": [
    {
     "name": "stdout",
     "output_type": "stream",
     "text": [
      "0\n",
      "1\n",
      "2\n",
      "3\n"
     ]
    }
   ],
   "source": [
    "counter = 0 \n",
    "while counter < 100:   # Equanto o contador for menor que cem \n",
    "    if counter == 4:  #Quando eu encontrar o contador igual a quatro\n",
    "        break\n",
    "    else:  \n",
    "        pass          # Enquanto não encontrar o quatro, vou prosseguindo\n",
    "    print(counter)\n",
    "    counter = counter+1   #Mudamos o valor do contador"
   ]
  },
  {
   "cell_type": "code",
   "execution_count": 9,
   "id": "0f98c409",
   "metadata": {},
   "outputs": [
    {
     "name": "stdout",
     "output_type": "stream",
     "text": [
      "P\n",
      "y\n",
      "t\n",
      "o\n",
      "n\n"
     ]
    }
   ],
   "source": [
    "for verificador in \"Python\": #Meu verificador é Python\n",
    "    if verificador ==\"h\":    # Se o meu verificador for h pule! \n",
    "        continue\n",
    "    print(verificador)\n"
   ]
  },
  {
   "cell_type": "code",
   "execution_count": 12,
   "id": "94b89593",
   "metadata": {},
   "outputs": [
    {
     "name": "stdout",
     "output_type": "stream",
     "text": [
      "2  é um número primo\n",
      "3  é um número primo\n",
      "5  é um número primo\n",
      "7  é um número primo\n",
      "11  é um número primo\n",
      "13  é um número primo\n",
      "17  é um número primo\n",
      "19  é um número primo\n",
      "23  é um número primo\n",
      "29  é um número primo\n"
     ]
    }
   ],
   "source": [
    "#While e for juntos\n",
    "for i in range(2,30):\n",
    "    j = 2\n",
    "    while j < i :\n",
    "        if i % j == 0:\n",
    "            counter = 1\n",
    "            j = j+1\n",
    "        else: \n",
    "            j = j+1\n",
    "    if counter == 0: \n",
    "        print(str(i) + \"  é um número primo\")\n",
    "        counter = 0 \n",
    "    else: \n",
    "        counter = 0 "
   ]
  },
  {
   "cell_type": "markdown",
   "id": "6e23754b",
   "metadata": {},
   "source": [
    "# Obs sobre função range: \n",
    "  A função Range tem o seguinte formato:\n",
    "  range([start], [stor], [step])\n",
    "  \n",
    "  Sendo esses:\n",
    "  \n",
    "  [start] - Número que inicia a sequência\n",
    "  \n",
    "  [stop] - Número que encerra a sequência porém não é incluído na sequência\n",
    "  \n",
    "  [step] - diferença entre cada número da sequência\n",
    "  \n",
    "  Observer o exemplo abaixo:"
   ]
  },
  {
   "cell_type": "code",
   "execution_count": 15,
   "id": "c057ecf9",
   "metadata": {},
   "outputs": [
    {
     "name": "stdout",
     "output_type": "stream",
     "text": [
      "50\n",
      "52\n",
      "54\n",
      "56\n",
      "58\n",
      "60\n",
      "62\n",
      "64\n",
      "66\n",
      "68\n",
      "70\n",
      "72\n",
      "74\n",
      "76\n",
      "78\n",
      "80\n",
      "82\n",
      "84\n",
      "86\n",
      "88\n",
      "90\n",
      "92\n",
      "94\n",
      "96\n",
      "98\n",
      "100\n"
     ]
    }
   ],
   "source": [
    "for i in range(50,101,2):\n",
    "    print(i)\n",
    "    #Aqui nós temos um repetição onde nós temos os valores de 50 até 100, impressos de 2 em 2 "
   ]
  },
  {
   "cell_type": "code",
   "execution_count": 16,
   "id": "a4941572",
   "metadata": {},
   "outputs": [
    {
     "name": "stdout",
     "output_type": "stream",
     "text": [
      "0\n",
      "-2\n",
      "-4\n",
      "-6\n",
      "-8\n",
      "-10\n",
      "-12\n",
      "-14\n",
      "-16\n",
      "-18\n"
     ]
    }
   ],
   "source": [
    "for i in range (0,-20,-2):\n",
    "    print(i)"
   ]
  },
  {
   "cell_type": "code",
   "execution_count": 17,
   "id": "3aa8e438",
   "metadata": {},
   "outputs": [
    {
     "name": "stdout",
     "output_type": "stream",
     "text": [
      "Morango\n",
      "Banana\n",
      "Abacaxi\n",
      "Uva\n"
     ]
    }
   ],
   "source": [
    "lista = [\"Morango\",\"Banana\",\"Abacaxi\", \"Uva\"]\n",
    "lista_tamanho=len(lista)\n",
    "for i in range(0,lista_tamanho):\n",
    "    print(lista[i])"
   ]
  },
  {
   "cell_type": "code",
   "execution_count": 18,
   "id": "640af7e4",
   "metadata": {},
   "outputs": [
    {
     "data": {
      "text/plain": [
       "range"
      ]
     },
     "execution_count": 18,
     "metadata": {},
     "output_type": "execute_result"
    }
   ],
   "source": [
    "type(range(0,3))"
   ]
  }
 ],
 "metadata": {
  "kernelspec": {
   "display_name": "Python 3 (ipykernel)",
   "language": "python",
   "name": "python3"
  },
  "language_info": {
   "codemirror_mode": {
    "name": "ipython",
    "version": 3
   },
   "file_extension": ".py",
   "mimetype": "text/x-python",
   "name": "python",
   "nbconvert_exporter": "python",
   "pygments_lexer": "ipython3",
   "version": "3.8.10"
  }
 },
 "nbformat": 4,
 "nbformat_minor": 5
}
