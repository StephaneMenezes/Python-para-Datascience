{
 "cells": [
  {
   "cell_type": "markdown",
   "id": "b0a25435",
   "metadata": {},
   "source": [
    "# O que são Metódos e Funções? "
   ]
  },
  {
   "cell_type": "code",
   "execution_count": 2,
   "id": "70aacf2a",
   "metadata": {},
   "outputs": [],
   "source": [
    "#Os metódos são funções incorporadas a objetos"
   ]
  },
  {
   "cell_type": "code",
   "execution_count": 11,
   "id": "1c679721",
   "metadata": {},
   "outputs": [],
   "source": [
    "lst = [100,-2,12,65,0]"
   ]
  },
  {
   "cell_type": "code",
   "execution_count": 13,
   "id": "3a3d3531",
   "metadata": {},
   "outputs": [],
   "source": [
    "lst.append(10) #O metodo append permite que você adicione um novo argumento para sua lista"
   ]
  },
  {
   "cell_type": "code",
   "execution_count": 14,
   "id": "f5aabec3",
   "metadata": {},
   "outputs": [
    {
     "data": {
      "text/plain": [
       "[100, -2, 12, 65, 0, 10, 10]"
      ]
     },
     "execution_count": 14,
     "metadata": {},
     "output_type": "execute_result"
    }
   ],
   "source": [
    "lst"
   ]
  },
  {
   "cell_type": "code",
   "execution_count": 16,
   "id": "df863402",
   "metadata": {},
   "outputs": [
    {
     "data": {
      "text/plain": [
       "2"
      ]
     },
     "execution_count": 16,
     "metadata": {},
     "output_type": "execute_result"
    }
   ],
   "source": [
    "lst.count(10) #O metódo count vai verificar quantos objetos no valor 10 temos na lista"
   ]
  },
  {
   "cell_type": "code",
   "execution_count": 18,
   "id": "7c21ee1d",
   "metadata": {},
   "outputs": [],
   "source": [
    "# Se fizermos lst. + tab podemos oberservar quais metodos estao disponiveis para essa variavel"
   ]
  },
  {
   "cell_type": "code",
   "execution_count": 20,
   "id": "f212b6ca",
   "metadata": {},
   "outputs": [
    {
     "data": {
      "text/plain": [
       "['__add__',\n",
       " '__class__',\n",
       " '__contains__',\n",
       " '__delattr__',\n",
       " '__delitem__',\n",
       " '__dir__',\n",
       " '__doc__',\n",
       " '__eq__',\n",
       " '__format__',\n",
       " '__ge__',\n",
       " '__getattribute__',\n",
       " '__getitem__',\n",
       " '__gt__',\n",
       " '__hash__',\n",
       " '__iadd__',\n",
       " '__imul__',\n",
       " '__init__',\n",
       " '__init_subclass__',\n",
       " '__iter__',\n",
       " '__le__',\n",
       " '__len__',\n",
       " '__lt__',\n",
       " '__mul__',\n",
       " '__ne__',\n",
       " '__new__',\n",
       " '__reduce__',\n",
       " '__reduce_ex__',\n",
       " '__repr__',\n",
       " '__reversed__',\n",
       " '__rmul__',\n",
       " '__setattr__',\n",
       " '__setitem__',\n",
       " '__sizeof__',\n",
       " '__str__',\n",
       " '__subclasshook__',\n",
       " 'append',\n",
       " 'clear',\n",
       " 'copy',\n",
       " 'count',\n",
       " 'extend',\n",
       " 'index',\n",
       " 'insert',\n",
       " 'pop',\n",
       " 'remove',\n",
       " 'reverse',\n",
       " 'sort']"
      ]
     },
     "execution_count": 20,
     "metadata": {},
     "output_type": "execute_result"
    }
   ],
   "source": [
    "dir(lst) #A função dir mostra todos os metódos e atributos de um objeto"
   ]
  },
  {
   "cell_type": "code",
   "execution_count": 23,
   "id": "6c3246f3",
   "metadata": {},
   "outputs": [],
   "source": [
    "a = \"Isso é uma string\""
   ]
  },
  {
   "cell_type": "code",
   "execution_count": 25,
   "id": "581f538d",
   "metadata": {},
   "outputs": [
    {
     "name": "stdout",
     "output_type": "stream",
     "text": [
      "['Isso', 'é', 'uma', 'string']\n"
     ]
    }
   ],
   "source": [
    "print(a.split())"
   ]
  },
  {
   "cell_type": "markdown",
   "id": "6e78a96d",
   "metadata": {},
   "source": [
    "#O que são funções? \n",
    "#Função é um dispositivo que agrupa um conjunto de intruções para que ela possam ser executadas mais de uma vez.\n",
    "#O formato geral de uma função é: \n",
    "# def nome da função(arg1, arg2)"
   ]
  },
  {
   "cell_type": "code",
   "execution_count": 33,
   "id": "87ae66ee",
   "metadata": {},
   "outputs": [],
   "source": [
    "#Definindo uma primeira função\n",
    "def primeirafunc():\n",
    "    print(\"Hello World\")"
   ]
  },
  {
   "cell_type": "code",
   "execution_count": 32,
   "id": "f288b888",
   "metadata": {},
   "outputs": [
    {
     "name": "stdout",
     "output_type": "stream",
     "text": [
      "Hello World\n"
     ]
    }
   ],
   "source": [
    "primeirafunc()"
   ]
  },
  {
   "cell_type": "code",
   "execution_count": 45,
   "id": "3276cf1b",
   "metadata": {},
   "outputs": [],
   "source": [
    "def primeirafunc(nome): #Definimos uma função como parametro\n",
    "    print('Hello %s' %(nome))"
   ]
  },
  {
   "cell_type": "code",
   "execution_count": 39,
   "id": "0434b6d2",
   "metadata": {},
   "outputs": [
    {
     "name": "stdout",
     "output_type": "stream",
     "text": [
      "Hello Stephane\n"
     ]
    }
   ],
   "source": [
    "primeirafunc(\"Stephane\")"
   ]
  },
  {
   "cell_type": "code",
   "execution_count": 43,
   "id": "9ef96e59",
   "metadata": {},
   "outputs": [],
   "source": [
    "def funcLeitura():\n",
    "    for i in range(0,5):\n",
    "            print(\"Número \" + str(i))"
   ]
  },
  {
   "cell_type": "code",
   "execution_count": 44,
   "id": "dc32b1c1",
   "metadata": {},
   "outputs": [
    {
     "name": "stdout",
     "output_type": "stream",
     "text": [
      "Número 0\n",
      "Número 1\n",
      "Número 2\n",
      "Número 3\n",
      "Número 4\n"
     ]
    }
   ],
   "source": [
    "funcLeitura()"
   ]
  },
  {
   "cell_type": "code",
   "execution_count": 46,
   "id": "0c9d38b8",
   "metadata": {},
   "outputs": [],
   "source": [
    "def addNum(primeironum, segundonum):\n",
    "    print(\"Primeiro Número: \" + str(primeironum))\n",
    "    print(\"Primeiro Número: \" + str(segundonum))\n",
    "    print(\"A soma: \", primeironum + segundonum)\n",
    "    "
   ]
  },
  {
   "cell_type": "code",
   "execution_count": 48,
   "id": "2ef62d31",
   "metadata": {},
   "outputs": [
    {
     "name": "stdout",
     "output_type": "stream",
     "text": [
      "Primeiro Número: 50\n",
      "Primeiro Número: 25\n",
      "A soma:  75\n"
     ]
    }
   ],
   "source": [
    "#Chamando a função e passando os parâmetros: \n",
    "addNum(50,25)"
   ]
  },
  {
   "cell_type": "markdown",
   "id": "b527b75d",
   "metadata": {},
   "source": [
    "# Variáveis locais e globais"
   ]
  },
  {
   "cell_type": "code",
   "execution_count": 57,
   "id": "9d474a84",
   "metadata": {},
   "outputs": [],
   "source": [
    "var_global = 10  #Isto é uma variavel global\n",
    "\n",
    "def multiply(num1, num2):\n",
    "    var_local = num1 * num2  #Isto uma variável local\n",
    "    print(var_global)"
   ]
  },
  {
   "cell_type": "code",
   "execution_count": 55,
   "id": "1707fa30",
   "metadata": {},
   "outputs": [
    {
     "name": "stdout",
     "output_type": "stream",
     "text": [
      "125\n"
     ]
    }
   ],
   "source": [
    "multiply(5,25)"
   ]
  },
  {
   "cell_type": "code",
   "execution_count": 60,
   "id": "d975b9d3",
   "metadata": {},
   "outputs": [
    {
     "ename": "NameError",
     "evalue": "name 'var_local' is not defined",
     "output_type": "error",
     "traceback": [
      "\u001b[0;31m---------------------------------------------------------------------------\u001b[0m",
      "\u001b[0;31mNameError\u001b[0m                                 Traceback (most recent call last)",
      "\u001b[0;32m/tmp/ipykernel_13222/512453052.py\u001b[0m in \u001b[0;36m<module>\u001b[0;34m\u001b[0m\n\u001b[0;32m----> 1\u001b[0;31m \u001b[0mprint\u001b[0m\u001b[0;34m(\u001b[0m\u001b[0mvar_local\u001b[0m\u001b[0;34m)\u001b[0m \u001b[0;31m#Acontece uma mensagem de erro, pois var_local é uma váriavel que existe apenas dentro da função. Assim como, num1, num2 etc...\u001b[0m\u001b[0;34m\u001b[0m\u001b[0;34m\u001b[0m\u001b[0m\n\u001b[0m",
      "\u001b[0;31mNameError\u001b[0m: name 'var_local' is not defined"
     ]
    }
   ],
   "source": [
    "print(var_local) #Acontece uma mensagem de erro, pois var_local é uma\n",
    "#váriavel que existe apenas dentro da função. Assim como, num1, num2 etc... "
   ]
  },
  {
   "cell_type": "markdown",
   "id": "0d365999",
   "metadata": {},
   "source": [
    "Funções Built-in:"
   ]
  },
  {
   "cell_type": "code",
   "execution_count": 64,
   "id": "5f5f6606",
   "metadata": {},
   "outputs": [
    {
     "data": {
      "text/plain": [
       "56"
      ]
     },
     "execution_count": 64,
     "metadata": {},
     "output_type": "execute_result"
    }
   ],
   "source": [
    "abs(-56) #Retorna o valor absoluto"
   ]
  },
  {
   "cell_type": "code",
   "execution_count": 66,
   "id": "c27a8099",
   "metadata": {},
   "outputs": [
    {
     "data": {
      "text/plain": [
       "False"
      ]
     },
     "execution_count": 66,
     "metadata": {},
     "output_type": "execute_result"
    }
   ],
   "source": [
    "bool(0)"
   ]
  },
  {
   "cell_type": "code",
   "execution_count": 67,
   "id": "c9d6087e",
   "metadata": {},
   "outputs": [
    {
     "data": {
      "text/plain": [
       "True"
      ]
     },
     "execution_count": 67,
     "metadata": {},
     "output_type": "execute_result"
    }
   ],
   "source": [
    "bool(1)"
   ]
  },
  {
   "cell_type": "code",
   "execution_count": 68,
   "id": "f974c823",
   "metadata": {},
   "outputs": [
    {
     "name": "stdout",
     "output_type": "stream",
     "text": [
      "Qual sua idade? 13\n"
     ]
    },
    {
     "ename": "TypeError",
     "evalue": "'>' not supported between instances of 'str' and 'int'",
     "output_type": "error",
     "traceback": [
      "\u001b[0;31m---------------------------------------------------------------------------\u001b[0m",
      "\u001b[0;31mTypeError\u001b[0m                                 Traceback (most recent call last)",
      "\u001b[0;32m/tmp/ipykernel_13222/2083760307.py\u001b[0m in \u001b[0;36m<module>\u001b[0;34m\u001b[0m\n\u001b[1;32m      1\u001b[0m \u001b[0;31m#Erro ao executar por causa de conversão:\u001b[0m\u001b[0;34m\u001b[0m\u001b[0;34m\u001b[0m\u001b[0;34m\u001b[0m\u001b[0m\n\u001b[1;32m      2\u001b[0m \u001b[0midade\u001b[0m\u001b[0;34m=\u001b[0m\u001b[0minput\u001b[0m\u001b[0;34m(\u001b[0m\u001b[0;34m\"Qual sua idade? \"\u001b[0m\u001b[0;34m)\u001b[0m\u001b[0;34m\u001b[0m\u001b[0;34m\u001b[0m\u001b[0m\n\u001b[0;32m----> 3\u001b[0;31m \u001b[0;32mif\u001b[0m \u001b[0midade\u001b[0m \u001b[0;34m>\u001b[0m \u001b[0;36m13\u001b[0m\u001b[0;34m:\u001b[0m\u001b[0;34m\u001b[0m\u001b[0;34m\u001b[0m\u001b[0m\n\u001b[0m\u001b[1;32m      4\u001b[0m     \u001b[0mprint\u001b[0m\u001b[0;34m(\u001b[0m\u001b[0;34m\"Você pode assistir ao filme! \"\u001b[0m\u001b[0;34m)\u001b[0m\u001b[0;34m\u001b[0m\u001b[0;34m\u001b[0m\u001b[0m\n",
      "\u001b[0;31mTypeError\u001b[0m: '>' not supported between instances of 'str' and 'int'"
     ]
    }
   ],
   "source": [
    "#Erro ao executar por causa de conversão:\n",
    "idade=input(\"Qual sua idade? \")\n",
    "if idade > 13:\n",
    "    print(\"Você pode assistir ao filme! \")"
   ]
  },
  {
   "cell_type": "code",
   "execution_count": 69,
   "id": "409b5969",
   "metadata": {},
   "outputs": [
    {
     "name": "stdout",
     "output_type": "stream",
     "text": [
      "Qual sua idade? 14\n",
      "Você pode assistir ao filme! \n"
     ]
    }
   ],
   "source": [
    "#O erro anterior acontece porque há uma diferença de tipo de dado de str e int, resolvemos dessa forma:\n",
    "idade=int(input(\"Qual sua idade? \"))\n",
    "if idade > 13:\n",
    "    print(\"Você pode assistir ao filme! \")"
   ]
  },
  {
   "cell_type": "code",
   "execution_count": 77,
   "id": "481ad071",
   "metadata": {},
   "outputs": [],
   "source": [
    "#Outros tipos de tranfosmações de dados: \n",
    "int(\"26\")\n",
    "float(\"123.345\")\n",
    "str(14)\n",
    "len([23,34,45,46])\n",
    "array = [1,50,3]"
   ]
  },
  {
   "cell_type": "code",
   "execution_count": 78,
   "id": "9e48ee7c",
   "metadata": {},
   "outputs": [
    {
     "data": {
      "text/plain": [
       "50"
      ]
     },
     "execution_count": 78,
     "metadata": {},
     "output_type": "execute_result"
    }
   ],
   "source": [
    "max(array) # Verificar o valor máximo de array"
   ]
  },
  {
   "cell_type": "code",
   "execution_count": 79,
   "id": "545b33f4",
   "metadata": {},
   "outputs": [
    {
     "data": {
      "text/plain": [
       "1"
      ]
     },
     "execution_count": 79,
     "metadata": {},
     "output_type": "execute_result"
    }
   ],
   "source": [
    "min(array) #Verificar o valor minimo de array"
   ]
  },
  {
   "cell_type": "code",
   "execution_count": 81,
   "id": "5662adf7",
   "metadata": {},
   "outputs": [
    {
     "data": {
      "text/plain": [
       "122"
      ]
     },
     "execution_count": 81,
     "metadata": {},
     "output_type": "execute_result"
    }
   ],
   "source": [
    "lista=[25,35,62]\n",
    "sum(lista)   #Soma os elementos de uma lista"
   ]
  },
  {
   "cell_type": "code",
   "execution_count": 103,
   "id": "9eaecd3f",
   "metadata": {},
   "outputs": [],
   "source": [
    "import math\n",
    "def numprimo(num): \n",
    "    '''\n",
    "    Verificando se um número é primo \n",
    "    '''\n",
    "    if (num%2)==0 and num>2:\n",
    "          return 'Este número não é primo'\n",
    "    for i in range(3, int(math.sqrt(num))+1,2):\n",
    "        if (num%i)==0:\n",
    "            return \"Este numéro não é primo\"\n",
    "        return \"Esse número é primo\""
   ]
  },
  {
   "cell_type": "code",
   "execution_count": 108,
   "id": "8c4bbd7a",
   "metadata": {},
   "outputs": [
    {
     "data": {
      "text/plain": [
       "'Esse número é primo'"
      ]
     },
     "execution_count": 108,
     "metadata": {},
     "output_type": "execute_result"
    }
   ],
   "source": [
    "numprimo(541)"
   ]
  },
  {
   "cell_type": "code",
   "execution_count": 107,
   "id": "15a7d878",
   "metadata": {},
   "outputs": [
    {
     "data": {
      "text/plain": [
       "'Este número não é primo'"
      ]
     },
     "execution_count": 107,
     "metadata": {},
     "output_type": "execute_result"
    }
   ],
   "source": [
    "numprimo(514)"
   ]
  },
  {
   "cell_type": "code",
   "execution_count": 110,
   "id": "cc2130e2",
   "metadata": {},
   "outputs": [],
   "source": [
    "#Fazendo split dos dados\n",
    "def split_string(text):\n",
    "    return text.split(\" \")"
   ]
  },
  {
   "cell_type": "code",
   "execution_count": 112,
   "id": "d170e37c",
   "metadata": {},
   "outputs": [],
   "source": [
    "texto = \"Esta função será bastante util para separar grande volume de dados\""
   ]
  },
  {
   "cell_type": "code",
   "execution_count": 113,
   "id": "5c7a9448",
   "metadata": {},
   "outputs": [
    {
     "name": "stdout",
     "output_type": "stream",
     "text": [
      "['Esta', 'função', 'será', 'bastante', 'util', 'para', 'separar', 'grande', 'volume', 'de', 'dados']\n"
     ]
    }
   ],
   "source": [
    "print(split_string(texto))"
   ]
  },
  {
   "cell_type": "code",
   "execution_count": 115,
   "id": "7715a402",
   "metadata": {},
   "outputs": [],
   "source": [
    "token=split_string(texto) #E podemos armazenar em uma váriavel"
   ]
  },
  {
   "cell_type": "code",
   "execution_count": 116,
   "id": "68cfd045",
   "metadata": {},
   "outputs": [
    {
     "data": {
      "text/plain": [
       "['Esta',\n",
       " 'função',\n",
       " 'será',\n",
       " 'bastante',\n",
       " 'util',\n",
       " 'para',\n",
       " 'separar',\n",
       " 'grande',\n",
       " 'volume',\n",
       " 'de',\n",
       " 'dados']"
      ]
     },
     "execution_count": 116,
     "metadata": {},
     "output_type": "execute_result"
    }
   ],
   "source": [
    "token"
   ]
  },
  {
   "cell_type": "code",
   "execution_count": 118,
   "id": "7db8f671",
   "metadata": {},
   "outputs": [
    {
     "name": "stdout",
     "output_type": "stream",
     "text": [
      "40\n",
      "39\n",
      "38\n",
      "37\n",
      "36\n"
     ]
    }
   ],
   "source": [
    "temperatura = 40\n",
    "while temperatura > 35:\n",
    "    print(temperatura)\n",
    "    temperatura = temperatura-1"
   ]
  },
  {
   "cell_type": "code",
   "execution_count": 119,
   "id": "e88d9882",
   "metadata": {},
   "outputs": [
    {
     "name": "stdout",
     "output_type": "stream",
     "text": [
      "462\n"
     ]
    }
   ],
   "source": [
    "listaB=[32,53,85,10,15,17,19]\n",
    "soma=0\n",
    "for i in listaB:\n",
    "    double_i=i*2\n",
    "    soma+=double_i\n",
    "print(soma)"
   ]
  }
 ],
 "metadata": {
  "kernelspec": {
   "display_name": "Python 3 (ipykernel)",
   "language": "python",
   "name": "python3"
  },
  "language_info": {
   "codemirror_mode": {
    "name": "ipython",
    "version": 3
   },
   "file_extension": ".py",
   "mimetype": "text/x-python",
   "name": "python",
   "nbconvert_exporter": "python",
   "pygments_lexer": "ipython3",
   "version": "3.8.10"
  }
 },
 "nbformat": 4,
 "nbformat_minor": 5
}
